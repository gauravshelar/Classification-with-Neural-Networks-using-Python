{
 "cells": [
  {
   "cell_type": "markdown",
   "id": "7e914f79",
   "metadata": {},
   "source": [
    "# Classification with Neural Networks using Python..."
   ]
  },
  {
   "cell_type": "markdown",
   "id": "6cd8927b",
   "metadata": {},
   "source": [
    "In machine learning, classification means categorizing the known classes, For example, categorizing the most profitable and non-interested customers from a dataset for advertising a particular product. You must have trained a classification model with a machine learning algorithm before. Here is an example. But if you want to learn about training a classification model with neural networks, this article is for you. In this article, I will take you through the task of classification with neural networks using Python."
   ]
  },
  {
   "cell_type": "markdown",
   "id": "9551c270",
   "metadata": {},
   "source": [
    "Classification is the task of categorizing the known classes based on their features. In most classification problems, machine learning algorithms will do the job, but while classifying a large dataset of images, you will need to use a neural network. If you have never trained a neural network and want to learn how neural networks work, you can learn everything about a neural network from here.\n",
    "\n",
    "Now let’s come back to classification with neural networks. In this section, I will take you through the task of image classification with neural network using Python. Here, I will be using the famous MNIST fashion dataset, which contains 70,000 clothing fashion images. Here our task is to train an image classification model with neural networks."
   ]
  },
  {
   "cell_type": "markdown",
   "id": "98429057",
   "metadata": {},
   "source": [
    "##### I will start this task by importing the necessary Python libraries and the dataset:"
   ]
  },
  {
   "cell_type": "code",
   "execution_count": 4,
   "id": "4fa20e6a",
   "metadata": {},
   "outputs": [],
   "source": [
    "import tensorflow as tf\n",
    "from tensorflow import keras\n",
    "import numpy as np\n",
    "import matplotlib.pyplot as plt"
   ]
  },
  {
   "cell_type": "code",
   "execution_count": 12,
   "id": "e5b74434",
   "metadata": {},
   "outputs": [],
   "source": [
    "fashion = keras.datasets.fashion_mnist\n",
    "(x_train,y_train),(x_test, y_test) = fashion.load_data()"
   ]
  },
  {
   "cell_type": "markdown",
   "id": "d0949d73",
   "metadata": {},
   "source": [
    "##### Before moving forward, let’s have a quick look at one of the samples of the images from the dataset:"
   ]
  },
  {
   "cell_type": "code",
   "execution_count": 20,
   "id": "fa5c8ffa",
   "metadata": {},
   "outputs": [
    {
     "name": "stdout",
     "output_type": "stream",
     "text": [
      "Image Label: 5\n"
     ]
    },
    {
     "data": {
      "image/png": "[encoded data removed]",
      "text/plain": [
       "<Figure size 600x800 with 1 Axes>"
      ]
     },
     "metadata": {},
     "output_type": "display_data"
    }
   ],
   "source": [
    "img = 9\n",
    "image = x_train[img]\n",
    "print('Image Label:',y_train[img])\n",
    "plt.figure(figsize =(6,8))\n",
    "plt.imshow(image);"
   ]
  },
  {
   "cell_type": "markdown",
   "id": "89b9b07b",
   "metadata": {},
   "source": [
    "##### Now let’s have a look at the shape of both the training and test data:"
   ]
  },
  {
   "cell_type": "code",
   "execution_count": 23,
   "id": "0469f945",
   "metadata": {},
   "outputs": [
    {
     "name": "stdout",
     "output_type": "stream",
     "text": [
      "(60000, 28, 28)\n",
      "(10000, 28, 28)\n"
     ]
    }
   ],
   "source": [
    "print(x_train.shape)\n",
    "print(x_test.shape)"
   ]
  },
  {
   "cell_type": "markdown",
   "id": "a93fbfbe",
   "metadata": {},
   "source": [
    "#### Building a Neural Network Architecture"
   ]
  },
  {
   "cell_type": "markdown",
   "id": "370d1451",
   "metadata": {},
   "source": [
    "###### Now I will build a neural network architecture with two hidden layers:"
   ]
  },
  {
   "cell_type": "code",
   "execution_count": 27,
   "id": "991c9e56",
   "metadata": {},
   "outputs": [
    {
     "name": "stdout",
     "output_type": "stream",
     "text": [
      "Model: \"sequential\"\n",
      "_________________________________________________________________\n",
      " Layer (type)                Output Shape              Param #   \n",
      "=================================================================\n",
      " flatten (Flatten)           (None, 784)               0         \n",
      "                                                                 \n",
      " dense (Dense)               (None, 300)               235500    \n",
      "                                                                 \n",
      " dense_1 (Dense)             (None, 100)               30100     \n",
      "                                                                 \n",
      " dense_2 (Dense)             (None, 10)                1010      \n",
      "                                                                 \n",
      "=================================================================\n",
      "Total params: 266610 (1.02 MB)\n",
      "Trainable params: 266610 (1.02 MB)\n",
      "Non-trainable params: 0 (0.00 Byte)\n",
      "_________________________________________________________________\n"
     ]
    }
   ],
   "source": [
    "model = keras.models.Sequential([\n",
    "    keras.layers.Flatten(input_shape=[28,28]),\n",
    "    keras.layers.Dense(300,activation ='relu'),\n",
    "    keras.layers.Dense(100, activation ='relu'),\n",
    "    keras.layers.Dense(10,activation = 'softmax')\n",
    "])\n",
    "model.summary()"
   ]
  },
  {
   "cell_type": "markdown",
   "id": "bd67dc1f",
   "metadata": {},
   "source": [
    "#### Before training our model, I will split the training data into training and validation sets:"
   ]
  },
  {
   "cell_type": "code",
   "execution_count": 28,
   "id": "a3add924",
   "metadata": {},
   "outputs": [],
   "source": [
    "xvalid, x_train = x_train[:5000]/255.0, x_train[5000:]/255.0\n",
    "yvalid, y_train = y_train[:5000], y_train[5000:]"
   ]
  },
  {
   "cell_type": "markdown",
   "id": "7cfc3c6a",
   "metadata": {},
   "source": [
    "### Training a Classification Model with Neural Networks"
   ]
  },
  {
   "cell_type": "markdown",
   "id": "ce111d8b",
   "metadata": {},
   "source": [
    "Now here’s how we can train a neural network for the task of image classification:"
   ]
  },
  {
   "cell_type": "code",
   "execution_count": 31,
   "id": "663de8a4",
   "metadata": {},
   "outputs": [
    {
     "name": "stdout",
     "output_type": "stream",
     "text": [
      "Epoch 1/30\n",
      "1719/1719 [==============================] - 12s 5ms/step - loss: 0.7427 - accuracy: 0.7583 - val_loss: 0.5412 - val_accuracy: 0.8112\n",
      "Epoch 2/30\n",
      "1719/1719 [==============================] - 8s 5ms/step - loss: 0.4895 - accuracy: 0.8287 - val_loss: 0.4435 - val_accuracy: 0.8452\n",
      "Epoch 3/30\n",
      "1719/1719 [==============================] - 7s 4ms/step - loss: 0.4456 - accuracy: 0.8438 - val_loss: 0.4178 - val_accuracy: 0.8542\n",
      "Epoch 4/30\n",
      "1719/1719 [==============================] - 7s 4ms/step - loss: 0.4188 - accuracy: 0.8531 - val_loss: 0.3889 - val_accuracy: 0.8692\n",
      "Epoch 5/30\n",
      "1719/1719 [==============================] - 7s 4ms/step - loss: 0.3977 - accuracy: 0.8599 - val_loss: 0.3939 - val_accuracy: 0.8620\n",
      "Epoch 6/30\n",
      "1719/1719 [==============================] - 9s 5ms/step - loss: 0.3825 - accuracy: 0.8667 - val_loss: 0.3708 - val_accuracy: 0.8700\n",
      "Epoch 7/30\n",
      "1719/1719 [==============================] - 7s 4ms/step - loss: 0.3672 - accuracy: 0.8702 - val_loss: 0.3535 - val_accuracy: 0.8766\n",
      "Epoch 8/30\n",
      "1719/1719 [==============================] - 8s 4ms/step - loss: 0.3562 - accuracy: 0.8750 - val_loss: 0.3453 - val_accuracy: 0.8778\n",
      "Epoch 9/30\n",
      "1719/1719 [==============================] - 7s 4ms/step - loss: 0.3463 - accuracy: 0.8762 - val_loss: 0.3385 - val_accuracy: 0.8818\n",
      "Epoch 10/30\n",
      "1719/1719 [==============================] - 7s 4ms/step - loss: 0.3353 - accuracy: 0.8816 - val_loss: 0.3339 - val_accuracy: 0.8816\n",
      "Epoch 11/30\n",
      "1719/1719 [==============================] - 8s 4ms/step - loss: 0.3266 - accuracy: 0.8841 - val_loss: 0.3359 - val_accuracy: 0.8810\n",
      "Epoch 12/30\n",
      "1719/1719 [==============================] - 7s 4ms/step - loss: 0.3183 - accuracy: 0.8870 - val_loss: 0.3516 - val_accuracy: 0.8752\n",
      "Epoch 13/30\n",
      "1719/1719 [==============================] - 7s 4ms/step - loss: 0.3105 - accuracy: 0.8899 - val_loss: 0.3283 - val_accuracy: 0.8828\n",
      "Epoch 14/30\n",
      "1719/1719 [==============================] - 8s 4ms/step - loss: 0.3047 - accuracy: 0.8911 - val_loss: 0.3304 - val_accuracy: 0.8848\n",
      "Epoch 15/30\n",
      "1719/1719 [==============================] - 7s 4ms/step - loss: 0.2973 - accuracy: 0.8931 - val_loss: 0.3238 - val_accuracy: 0.8824\n",
      "Epoch 16/30\n",
      "1719/1719 [==============================] - 8s 5ms/step - loss: 0.2919 - accuracy: 0.8958 - val_loss: 0.3298 - val_accuracy: 0.8826\n",
      "Epoch 17/30\n",
      "1719/1719 [==============================] - 7s 4ms/step - loss: 0.2851 - accuracy: 0.8986 - val_loss: 0.3137 - val_accuracy: 0.8886\n",
      "Epoch 18/30\n",
      "1719/1719 [==============================] - 7s 4ms/step - loss: 0.2802 - accuracy: 0.9003 - val_loss: 0.3096 - val_accuracy: 0.8876\n",
      "Epoch 19/30\n",
      "1719/1719 [==============================] - 8s 5ms/step - loss: 0.2746 - accuracy: 0.9013 - val_loss: 0.3273 - val_accuracy: 0.8834\n",
      "Epoch 20/30\n",
      "1719/1719 [==============================] - 7s 4ms/step - loss: 0.2692 - accuracy: 0.9036 - val_loss: 0.3061 - val_accuracy: 0.8906\n",
      "Epoch 21/30\n",
      "1719/1719 [==============================] - 7s 4ms/step - loss: 0.2640 - accuracy: 0.9052 - val_loss: 0.3139 - val_accuracy: 0.8892\n",
      "Epoch 22/30\n",
      "1719/1719 [==============================] - 7s 4ms/step - loss: 0.2596 - accuracy: 0.9066 - val_loss: 0.2995 - val_accuracy: 0.8956\n",
      "Epoch 23/30\n",
      "1719/1719 [==============================] - 7s 4ms/step - loss: 0.2544 - accuracy: 0.9093 - val_loss: 0.3301 - val_accuracy: 0.8822\n",
      "Epoch 24/30\n",
      "1719/1719 [==============================] - 8s 4ms/step - loss: 0.2504 - accuracy: 0.9096 - val_loss: 0.3242 - val_accuracy: 0.8820\n",
      "Epoch 25/30\n",
      "1719/1719 [==============================] - 8s 5ms/step - loss: 0.2464 - accuracy: 0.9115 - val_loss: 0.3091 - val_accuracy: 0.8862\n",
      "Epoch 26/30\n",
      "1719/1719 [==============================] - 7s 4ms/step - loss: 0.2417 - accuracy: 0.9139 - val_loss: 0.3092 - val_accuracy: 0.8868\n",
      "Epoch 27/30\n",
      "1719/1719 [==============================] - 7s 4ms/step - loss: 0.2374 - accuracy: 0.9157 - val_loss: 0.2985 - val_accuracy: 0.8912\n",
      "Epoch 28/30\n",
      "1719/1719 [==============================] - 8s 5ms/step - loss: 0.2343 - accuracy: 0.9162 - val_loss: 0.2927 - val_accuracy: 0.8942\n",
      "Epoch 29/30\n",
      "1719/1719 [==============================] - 8s 4ms/step - loss: 0.2306 - accuracy: 0.9168 - val_loss: 0.2914 - val_accuracy: 0.8950\n",
      "Epoch 30/30\n",
      "1719/1719 [==============================] - 8s 4ms/step - loss: 0.2267 - accuracy: 0.9197 - val_loss: 0.3011 - val_accuracy: 0.8942\n"
     ]
    }
   ],
   "source": [
    "model.compile(loss=\"sparse_categorical_crossentropy\",\n",
    "              optimizer=\"sgd\",\n",
    "              metrics=[\"accuracy\"])\n",
    "history = model.fit(x_train, y_train, epochs=30, \n",
    "                    validation_data=(xvalid, yvalid))"
   ]
  },
  {
   "cell_type": "markdown",
   "id": "79f09d92",
   "metadata": {},
   "source": [
    "Now let’s have a look at the predictions:"
   ]
  },
  {
   "cell_type": "code",
   "execution_count": 37,
   "id": "ea0889b6",
   "metadata": {},
   "outputs": [
    {
     "name": "stdout",
     "output_type": "stream",
     "text": [
      "1/1 [==============================] - 0s 22ms/step\n",
      "[[0. 0. 0. 0. 0. 0. 0. 0. 0. 1.]\n",
      " [0. 0. 1. 0. 0. 0. 0. 0. 0. 0.]\n",
      " [0. 1. 0. 0. 0. 0. 0. 0. 0. 0.]\n",
      " [0. 1. 0. 0. 0. 0. 0. 0. 0. 0.]\n",
      " [0. 0. 0. 0. 0. 0. 1. 0. 0. 0.]]\n"
     ]
    }
   ],
   "source": [
    "new = x_test[:5]\n",
    "predictions = model.predict(new)\n",
    "print(predication)"
   ]
  },
  {
   "cell_type": "markdown",
   "id": "da7a607c",
   "metadata": {},
   "source": [
    "Here is how we can look at the predicted classes:"
   ]
  },
  {
   "cell_type": "code",
   "execution_count": 38,
   "id": "47f46677",
   "metadata": {},
   "outputs": [
    {
     "name": "stdout",
     "output_type": "stream",
     "text": [
      "[9 2 1 1 6]\n"
     ]
    }
   ],
   "source": [
    "classes = np.argmax(predictions,axis =1)\n",
    "print(classes)"
   ]
  },
  {
   "cell_type": "markdown",
   "id": "d679b2a8",
   "metadata": {},
   "source": [
    "##### So this is how you can train a classification model with neural networks using Python."
   ]
  },
  {
   "cell_type": "markdown",
   "id": "f4845af3",
   "metadata": {},
   "source": [
    "#### Summary\n",
    "Classification is the task of categorizing the known classes based on their features. In most classification problems, machine learning algorithms will do the job, but while classifying a large dataset of images, you will need to use a neural network."
   ]
  }
 ],
 "metadata": {
  "kernelspec": {
   "display_name": "Python 3 (ipykernel)",
   "language": "python",
   "name": "python3"
  },
  "language_info": {
   "codemirror_mode": {
    "name": "ipython",
    "version": 3
   },
   "file_extension": ".py",
   "mimetype": "text/x-python",
   "name": "python",
   "nbconvert_exporter": "python",
   "pygments_lexer": "ipython3",
   "version": "3.9.12"
  }
 },
 "nbformat": 4,
 "nbformat_minor": 5
}
